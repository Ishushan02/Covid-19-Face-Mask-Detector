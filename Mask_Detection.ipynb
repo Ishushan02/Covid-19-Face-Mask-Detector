{
 "cells": [
  {
   "cell_type": "code",
   "execution_count": 1,
   "metadata": {},
   "outputs": [],
   "source": [
    "import cv2\n",
    "color_image = cv2.imread(\"image.jpg\", 1)\n",
    "#when Attribute is 1 it shows the color Image\n",
    "black_n_white_image = cv2.imread(\"image.jpg\", 0)\n",
    "#when Attribute is 1 it shows the color Image"
   ]
  },
  {
   "cell_type": "code",
   "execution_count": 2,
   "metadata": {},
   "outputs": [],
   "source": [
    "nose_cascade = cv2.CascadeClassifier(\"haarcascade_nose.xml\")\n",
    "#defining the Haarcascade classifier which contains all the attributes of faces "
   ]
  },
  {
   "cell_type": "code",
   "execution_count": 3,
   "metadata": {},
   "outputs": [],
   "source": [
    "nose_dimension = nose_cascade.detectMultiScale(color_image, scaleFactor = 1.03, minNeighbors = 3)\n"
   ]
  },
  {
   "cell_type": "code",
   "execution_count": 4,
   "metadata": {},
   "outputs": [
    {
     "data": {
      "text/plain": [
       "array([[ 73, 125,  31,  26]], dtype=int32)"
      ]
     },
     "execution_count": 4,
     "metadata": {},
     "output_type": "execute_result"
    }
   ],
   "source": [
    "nose_dimension"
   ]
  },
  {
   "cell_type": "code",
   "execution_count": 5,
   "metadata": {},
   "outputs": [],
   "source": [
    "for x, y, w, h in nose_dimension:\n",
    "    color_image = cv2.rectangle(color_image, (x,y), (x + w, y + h), (0, 255, 0), 1)\n",
    "    cv2.putText(color_image, \"Nose\", (x, y), cv2.FONT_HERSHEY_SIMPLEX, 0.7,  (152, 251, 152), 1)\n",
    "\n",
    "cv2.imshow(\"Recognized_image\", color_image)\n",
    "cv2.waitKey(0)\n",
    "cv2.destroyAllWindows()"
   ]
  },
  {
   "cell_type": "code",
   "execution_count": 8,
   "metadata": {},
   "outputs": [
    {
     "name": "stderr",
     "output_type": "stream",
     "text": [
      "C:\\Users\\Ishu anand\\Anaconda3\\envs\\Tensorflow\\lib\\site-packages\\ipykernel_launcher.py:2: DeprecationWarning: elementwise comparison failed; this will raise an error in the future.\n",
      "  \n"
     ]
    }
   ],
   "source": [
    "color_image = cv2.imread(\"image.jpg\", 1)\n",
    "if nose_dimension == ():\n",
    "    print(\"NO Face Mask\")\n",
    "    cv2.putText(color_image, \"Mask Present\", (20,20), cv2.FONT_HERSHEY_SIMPLEX, 0.7,  (152, 251, 152), 1)\n",
    "else:\n",
    "    for x, y, w, h in nose_dimension:\n",
    "        color_image = cv2.rectangle(color_image, (x,y), (x + w, y + h), (0, 0, 0), 1)\n",
    "        cv2.putText(color_image, \"No Mask Present\", (x, y), cv2.FONT_HERSHEY_SIMPLEX, 0.4,  (0, 0, 255), 1)\n",
    "\n",
    "cv2.imshow(\"Recognized_image\", color_image)\n",
    "cv2.waitKey(0)\n",
    "cv2.destroyAllWindows()"
   ]
  },
  {
   "cell_type": "code",
   "execution_count": 10,
   "metadata": {},
   "outputs": [
    {
     "name": "stderr",
     "output_type": "stream",
     "text": [
      "C:\\Users\\Ishu anand\\Anaconda3\\envs\\Tensorflow\\lib\\site-packages\\ipykernel_launcher.py:10: DeprecationWarning: elementwise comparison failed; this will raise an error in the future.\n",
      "  # Remove the CWD from sys.path while we load stuff.\n"
     ]
    }
   ],
   "source": [
    "webcam = cv2.VideoCapture(0)\n",
    "webcam.set(3, 700)\n",
    "webcam.set(4, 300)\n",
    "while True:\n",
    "    check, frame = webcam.read()\n",
    "    \n",
    "    nose_cascade = cv2.CascadeClassifier(\"haarcascade_nose.xml\")\n",
    "    nose_dimension = nose_cascade.detectMultiScale(frame, scaleFactor = 1.6, minNeighbors = 4)\n",
    "    \n",
    "    if nose_dimension == ():\n",
    "        cv2.putText(frame, \"Mask_present\", (20,20), cv2.FONT_HERSHEY_DUPLEX, 0.7,(152, 251, 152), 1)\n",
    "    else:\n",
    "        for x, y, w, h in nose_dimension:\n",
    "            frame = cv2.rectangle(frame, (x,y), (x + w, y + h), (0, 0, 0), 1)\n",
    "            cv2.putText(frame, \"Mask_Not_Present\", (x, y), cv2.FONT_HERSHEY_DUPLEX, 0.7,(0,0, 255), 1)\n",
    "  \n",
    "    cv2.imshow(\"Video\", frame)\n",
    "    key = cv2.waitKey(1)\n",
    "    if key == ord('a'):\n",
    "        break\n",
    "webcam.release()\n",
    "cv2.destroyAllWindows()"
   ]
  },
  {
   "cell_type": "code",
   "execution_count": null,
   "metadata": {},
   "outputs": [],
   "source": []
  }
 ],
 "metadata": {
  "kernelspec": {
   "display_name": "Python 3",
   "language": "python",
   "name": "python3"
  },
  "language_info": {
   "codemirror_mode": {
    "name": "ipython",
    "version": 3
   },
   "file_extension": ".py",
   "mimetype": "text/x-python",
   "name": "python",
   "nbconvert_exporter": "python",
   "pygments_lexer": "ipython3",
   "version": "3.7.8"
  }
 },
 "nbformat": 4,
 "nbformat_minor": 4
}
